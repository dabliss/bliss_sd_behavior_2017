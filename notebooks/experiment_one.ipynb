{
 "cells": [
  {
   "cell_type": "markdown",
   "metadata": {},
   "source": [
    "# Experiment 1"
   ]
  },
  {
   "cell_type": "code",
   "execution_count": null,
   "metadata": {},
   "outputs": [],
   "source": [
    "# Enter as a string the full path to the repository.\n",
    "project_dir = '/home/dan/bliss_sd_behavior_2017'"
   ]
  },
  {
   "cell_type": "code",
   "execution_count": null,
   "metadata": {},
   "outputs": [],
   "source": [
    "%matplotlib inline"
   ]
  },
  {
   "cell_type": "code",
   "execution_count": null,
   "metadata": {},
   "outputs": [],
   "source": [
    "import os\n",
    "import sys\n",
    "\n",
    "import pandas as pd\n",
    "import numpy as np"
   ]
  },
  {
   "cell_type": "code",
   "execution_count": null,
   "metadata": {},
   "outputs": [],
   "source": [
    "module_path = os.path.abspath(os.path.join('..'))\n",
    "if module_path not in sys.path:\n",
    "    sys.path.append(module_path)"
   ]
  },
  {
   "cell_type": "code",
   "execution_count": null,
   "metadata": {
    "scrolled": true
   },
   "outputs": [],
   "source": [
    "from source import behavior_analysis as ba"
   ]
  },
  {
   "cell_type": "markdown",
   "metadata": {},
   "source": [
    "This notebook generates all the results for Experiment 1, moving first through the *Methods* section of the paper, and then through the *Results*."
   ]
  },
  {
   "cell_type": "markdown",
   "metadata": {},
   "source": [
    "## Load and preprocess the data (second paragraph of *Data Analysis* in *Methods*)."
   ]
  },
  {
   "cell_type": "code",
   "execution_count": null,
   "metadata": {},
   "outputs": [],
   "source": [
    "sessions = xrange(1, 41)\n",
    "task = 'exp1'\n",
    "keys = ('delays', 'stimulus_angles')\n",
    "indices = (1, 0)\n",
    "n_trials_per_session = 25\n",
    "\n",
    "sessions_005 = xrange(27, 67)\n",
    "sessions_011 = xrange(38, 78)\n",
    "sessions_014 = xrange(34, 74)\n",
    "sessions_018 = xrange(41, 81)\n",
    "sessions_020 = xrange(29, 69)"
   ]
  },
  {
   "cell_type": "code",
   "execution_count": null,
   "metadata": {},
   "outputs": [],
   "source": [
    "df_005 = ba.get_subject_data(5, sessions_005, task, keys, indices, n_trials_per_session, project_dir)\n",
    "df_059 = ba.get_subject_data(59, sessions, task, keys, indices, n_trials_per_session, project_dir)\n",
    "df_060 = ba.get_subject_data(60, sessions, task, keys, indices, n_trials_per_session, project_dir)"
   ]
  },
  {
   "cell_type": "code",
   "execution_count": null,
   "metadata": {},
   "outputs": [],
   "source": [
    "bad_subs_array = np.array([x.errors.abs().mean() for x in [df_005, df_059, df_060]])"
   ]
  },
  {
   "cell_type": "code",
   "execution_count": null,
   "metadata": {},
   "outputs": [],
   "source": [
    "# Mean of the mean absolute error across excluded subjects.\n",
    "bad_subs_array.mean()"
   ]
  },
  {
   "cell_type": "code",
   "execution_count": null,
   "metadata": {},
   "outputs": [],
   "source": [
    "# SEM of the mean absolute error across excluded subjects.\n",
    "bad_subs_array.std() / np.sqrt(len(bad_subs_array))"
   ]
  },
  {
   "cell_type": "code",
   "execution_count": null,
   "metadata": {},
   "outputs": [],
   "source": [
    "df_001 = ba.get_subject_data(1, sessions, task, keys, indices, n_trials_per_session, project_dir)\n",
    "df_002 = ba.get_subject_data(2, sessions, task, keys, indices, n_trials_per_session, project_dir)\n",
    "df_003 = ba.get_subject_data(3, sessions, task, keys, indices, n_trials_per_session, project_dir)\n",
    "df_006 = ba.get_subject_data(6, sessions, task, keys, indices, n_trials_per_session, project_dir)\n",
    "df_007 = ba.get_subject_data(7, sessions, task, keys, indices, n_trials_per_session, project_dir)\n",
    "df_008 = ba.get_subject_data(8, sessions, task, keys, indices, n_trials_per_session, project_dir)\n",
    "df_009 = ba.get_subject_data(9, sessions, task, keys, indices, n_trials_per_session, project_dir)\n",
    "df_010 = ba.get_subject_data(10, sessions, task, keys, indices, n_trials_per_session, project_dir)\n",
    "df_011 = ba.get_subject_data(11, sessions_011, task, keys, indices, n_trials_per_session, project_dir)\n",
    "df_014 = ba.get_subject_data(14, sessions_014, task, keys, indices, n_trials_per_session, project_dir)\n",
    "df_018 = ba.get_subject_data(18, sessions_018, task, keys, indices, n_trials_per_session, project_dir)\n",
    "df_020 = ba.get_subject_data(20, sessions_020, task, keys, indices, n_trials_per_session, project_dir)\n",
    "df_021 = ba.get_subject_data(21, sessions_020, task, keys, indices, n_trials_per_session, project_dir)\n",
    "df_024 = ba.get_subject_data(24, sessions_018, task, keys, indices, n_trials_per_session, project_dir)\n",
    "df_025 = ba.get_subject_data(25, sessions, task, keys, indices, n_trials_per_session, project_dir)\n",
    "df_026 = ba.get_subject_data(26, sessions, task, keys, indices, n_trials_per_session, project_dir)\n",
    "df_027 = ba.get_subject_data(27, sessions, task, keys, indices, n_trials_per_session, project_dir)\n",
    "df_028 = ba.get_subject_data(28, sessions, task, keys, indices, n_trials_per_session, project_dir)\n",
    "df_029 = ba.get_subject_data(29, sessions, task, keys, indices, n_trials_per_session, project_dir)\n",
    "df_030 = ba.get_subject_data(30, sessions, task, keys, indices, n_trials_per_session, project_dir)\n",
    "df_031 = ba.get_subject_data(31, sessions, task, keys, indices, n_trials_per_session, project_dir)\n",
    "df_033 = ba.get_subject_data(33, sessions, task, keys, indices, n_trials_per_session, project_dir)\n",
    "df_034 = ba.get_subject_data(34, sessions, task, keys, indices, n_trials_per_session, project_dir)\n",
    "df_035 = ba.get_subject_data(35, sessions, task, keys, indices, n_trials_per_session, project_dir)\n",
    "df_036 = ba.get_subject_data(36, sessions, task, keys, indices, n_trials_per_session, project_dir)\n",
    "df_037 = ba.get_subject_data(37, sessions, task, keys, indices, n_trials_per_session, project_dir)\n",
    "df_038 = ba.get_subject_data(38, sessions, task, keys, indices, n_trials_per_session, project_dir)\n",
    "df_039 = ba.get_subject_data(39, sessions, task, keys, indices, n_trials_per_session, project_dir)\n",
    "df_041 = ba.get_subject_data(41, sessions, task, keys, indices, n_trials_per_session, project_dir)\n",
    "df_043 = ba.get_subject_data(43, sessions, task, keys, indices, n_trials_per_session, project_dir)\n",
    "df_044 = ba.get_subject_data(44, sessions, task, keys, indices, n_trials_per_session, project_dir)\n",
    "df_045 = ba.get_subject_data(45, sessions, task, keys, indices, n_trials_per_session, project_dir)\n",
    "df_046 = ba.get_subject_data(46, sessions, task, keys, indices, n_trials_per_session, project_dir)\n",
    "df_047 = ba.get_subject_data(47, sessions, task, keys, indices, n_trials_per_session, project_dir)\n",
    "df_048 = ba.get_subject_data(48, sessions, task, keys, indices, n_trials_per_session, project_dir)\n",
    "df_049 = ba.get_subject_data(49, sessions, task, keys, indices, n_trials_per_session, project_dir)\n",
    "df_050 = ba.get_subject_data(50, sessions, task, keys, indices, n_trials_per_session, project_dir)\n",
    "df_056 = ba.get_subject_data(56, sessions, task, keys, indices, n_trials_per_session, project_dir)"
   ]
  },
  {
   "cell_type": "code",
   "execution_count": null,
   "metadata": {},
   "outputs": [],
   "source": [
    "good_subs_array = np.array([x.errors.abs().mean() for x in [df_001, df_002, df_003, df_006, df_007, df_008, \n",
    "                                                            df_009, df_010, df_011, df_014, df_018, df_020, \n",
    "                                                            df_021, df_024, df_025, df_026, df_027, df_028, \n",
    "                                                            df_029, df_030, df_031, df_033, df_034, df_035, \n",
    "                                                            df_036, df_037, df_038, df_039, df_041, df_043,\n",
    "                                                            df_044, df_045, df_046, df_047, df_048, df_049, \n",
    "                                                            df_050, df_056]])"
   ]
  },
  {
   "cell_type": "code",
   "execution_count": null,
   "metadata": {},
   "outputs": [],
   "source": [
    "# Mean of the mean absolute error across included subjects.\n",
    "good_subs_array.mean()"
   ]
  },
  {
   "cell_type": "code",
   "execution_count": null,
   "metadata": {},
   "outputs": [],
   "source": [
    "# SEM of the mean absolute error across included subjects.\n",
    "good_subs_array.std() / np.sqrt(len(good_subs_array))"
   ]
  },
  {
   "cell_type": "code",
   "execution_count": null,
   "metadata": {},
   "outputs": [],
   "source": [
    "df_001 = ba.add_columns(df_001)\n",
    "df_002 = ba.add_columns(df_002)\n",
    "df_003 = ba.add_columns(df_003)\n",
    "df_006 = ba.add_columns(df_006)\n",
    "df_007 = ba.add_columns(df_007)\n",
    "df_008 = ba.add_columns(df_008)\n",
    "df_009 = ba.add_columns(df_009)\n",
    "df_010 = ba.add_columns(df_010)\n",
    "df_011 = ba.add_columns(df_011)\n",
    "df_014 = ba.add_columns(df_014)\n",
    "df_018 = ba.add_columns(df_018)\n",
    "df_020 = ba.add_columns(df_020)\n",
    "df_021 = ba.add_columns(df_021)\n",
    "df_024 = ba.add_columns(df_024)\n",
    "df_025 = ba.add_columns(df_025)\n",
    "df_026 = ba.add_columns(df_026)\n",
    "df_027 = ba.add_columns(df_027)\n",
    "df_028 = ba.add_columns(df_028)\n",
    "df_029 = ba.add_columns(df_029)\n",
    "df_030 = ba.add_columns(df_030)\n",
    "df_031 = ba.add_columns(df_031)\n",
    "df_033 = ba.add_columns(df_033)\n",
    "df_034 = ba.add_columns(df_034)\n",
    "df_035 = ba.add_columns(df_035)\n",
    "df_036 = ba.add_columns(df_036)\n",
    "df_037 = ba.add_columns(df_037)\n",
    "df_038 = ba.add_columns(df_038)\n",
    "df_039 = ba.add_columns(df_039)\n",
    "df_041 = ba.add_columns(df_041)\n",
    "df_043 = ba.add_columns(df_043)\n",
    "df_044 = ba.add_columns(df_044)\n",
    "df_045 = ba.add_columns(df_045)\n",
    "df_046 = ba.add_columns(df_046)\n",
    "df_047 = ba.add_columns(df_047)\n",
    "df_048 = ba.add_columns(df_048)\n",
    "df_049 = ba.add_columns(df_049)\n",
    "df_050 = ba.add_columns(df_050)\n",
    "df_056 = ba.add_columns(df_056)"
   ]
  },
  {
   "cell_type": "code",
   "execution_count": null,
   "metadata": {},
   "outputs": [],
   "source": [
    "# Cut trials within 5 degrees of visual angle of origin and beyond 3 SDs from subject's mean error.\n",
    "df_001 = ba.cut_bad_trials(df_001)\n",
    "df_002 = ba.cut_bad_trials(df_002)\n",
    "df_003 = ba.cut_bad_trials(df_003)\n",
    "df_006 = ba.cut_bad_trials(df_006)\n",
    "df_007 = ba.cut_bad_trials(df_007)\n",
    "df_008 = ba.cut_bad_trials(df_008)\n",
    "df_009 = ba.cut_bad_trials(df_009)\n",
    "df_010 = ba.cut_bad_trials(df_010)\n",
    "df_011 = ba.cut_bad_trials(df_011)\n",
    "df_014 = ba.cut_bad_trials(df_014)\n",
    "df_018 = ba.cut_bad_trials(df_018)\n",
    "df_020 = ba.cut_bad_trials(df_020)\n",
    "df_021 = ba.cut_bad_trials(df_021)\n",
    "df_024 = ba.cut_bad_trials(df_024)\n",
    "df_025 = ba.cut_bad_trials(df_025)\n",
    "df_026 = ba.cut_bad_trials(df_026)\n",
    "df_027 = ba.cut_bad_trials(df_027)\n",
    "df_028 = ba.cut_bad_trials(df_028)\n",
    "df_029 = ba.cut_bad_trials(df_029)\n",
    "df_030 = ba.cut_bad_trials(df_030)\n",
    "df_031 = ba.cut_bad_trials(df_031)\n",
    "df_033 = ba.cut_bad_trials(df_033)\n",
    "df_034 = ba.cut_bad_trials(df_034)\n",
    "df_035 = ba.cut_bad_trials(df_035)\n",
    "df_036 = ba.cut_bad_trials(df_036)\n",
    "df_037 = ba.cut_bad_trials(df_037)\n",
    "df_038 = ba.cut_bad_trials(df_038)\n",
    "df_039 = ba.cut_bad_trials(df_039)\n",
    "df_041 = ba.cut_bad_trials(df_041)\n",
    "df_043 = ba.cut_bad_trials(df_043)\n",
    "df_044 = ba.cut_bad_trials(df_044)\n",
    "df_045 = ba.cut_bad_trials(df_045)\n",
    "df_046 = ba.cut_bad_trials(df_046)\n",
    "df_047 = ba.cut_bad_trials(df_047)\n",
    "df_048 = ba.cut_bad_trials(df_048)\n",
    "df_049 = ba.cut_bad_trials(df_049)\n",
    "df_050 = ba.cut_bad_trials(df_050)\n",
    "df_056 = ba.cut_bad_trials(df_056)"
   ]
  },
  {
   "cell_type": "code",
   "execution_count": null,
   "metadata": {},
   "outputs": [],
   "source": [
    "all_subs = pd.concat((df_001, df_002, df_003, df_006, df_007, df_008, df_009, df_010, df_011, df_014, \n",
    "                      df_018, df_020, df_021, df_024, df_025, df_026, df_027, df_028, df_029, df_030, \n",
    "                      df_031, df_033, df_034, df_035, df_036, df_037, df_038, df_039, df_041, df_043,\n",
    "                      df_044, df_045, df_046, df_047, df_048, df_049, df_050, df_056))"
   ]
  },
  {
   "cell_type": "code",
   "execution_count": null,
   "metadata": {},
   "outputs": [],
   "source": [
    "# Proportion of trials that were cut.\n",
    "1 - all_subs.shape[0] / 38000.0"
   ]
  },
  {
   "cell_type": "code",
   "execution_count": null,
   "metadata": {},
   "outputs": [],
   "source": [
    "# Compute and remove the systematic error.\n",
    "df_001 = ba.get_sys_error(df_001)\n",
    "df_002 = ba.get_sys_error(df_002)\n",
    "df_003 = ba.get_sys_error(df_003)\n",
    "df_006 = ba.get_sys_error(df_006)\n",
    "df_007 = ba.get_sys_error(df_007)\n",
    "df_008 = ba.get_sys_error(df_008)\n",
    "df_009 = ba.get_sys_error(df_009)\n",
    "df_010 = ba.get_sys_error(df_010)\n",
    "df_011 = ba.get_sys_error(df_011)\n",
    "df_014 = ba.get_sys_error(df_014)\n",
    "df_018 = ba.get_sys_error(df_018)\n",
    "df_020 = ba.get_sys_error(df_020)\n",
    "df_021 = ba.get_sys_error(df_021)\n",
    "df_024 = ba.get_sys_error(df_024)\n",
    "df_025 = ba.get_sys_error(df_025)\n",
    "df_026 = ba.get_sys_error(df_026)\n",
    "df_027 = ba.get_sys_error(df_027)\n",
    "df_028 = ba.get_sys_error(df_028)\n",
    "df_029 = ba.get_sys_error(df_029)\n",
    "df_030 = ba.get_sys_error(df_030)\n",
    "df_031 = ba.get_sys_error(df_031)\n",
    "df_033 = ba.get_sys_error(df_033)\n",
    "df_034 = ba.get_sys_error(df_034)\n",
    "df_035 = ba.get_sys_error(df_035)\n",
    "df_036 = ba.get_sys_error(df_036)\n",
    "df_037 = ba.get_sys_error(df_037)\n",
    "df_038 = ba.get_sys_error(df_038)\n",
    "df_039 = ba.get_sys_error(df_039)\n",
    "df_041 = ba.get_sys_error(df_041)\n",
    "df_043 = ba.get_sys_error(df_043)\n",
    "df_044 = ba.get_sys_error(df_044)\n",
    "df_045 = ba.get_sys_error(df_045)\n",
    "df_046 = ba.get_sys_error(df_046)\n",
    "df_047 = ba.get_sys_error(df_047)\n",
    "df_048 = ba.get_sys_error(df_048)\n",
    "df_049 = ba.get_sys_error(df_049)\n",
    "df_050 = ba.get_sys_error(df_050)\n",
    "df_056 = ba.get_sys_error(df_056)"
   ]
  },
  {
   "cell_type": "markdown",
   "metadata": {},
   "source": [
    "## Compare models of serial dependence (third paragraph of *Data Analysis* in *Methods*)."
   ]
  },
  {
   "cell_type": "code",
   "execution_count": null,
   "metadata": {},
   "outputs": [],
   "source": [
    "# Mean and SEM for the delta AIC.\n",
    "ba.print_fit_goodness((df_001, df_002, df_003, df_006, df_007, df_008, df_009, df_010, df_011, df_014, \n",
    "                       df_018, df_020, df_021, df_024, df_025, df_026, df_027, df_028, df_029, df_030, \n",
    "                       df_031, df_033, df_034, df_035, df_036, df_037, df_038, df_039, df_041, df_043, \n",
    "                       df_044, df_045, df_046, df_047, df_048, df_049, df_050, df_056))"
   ]
  },
  {
   "cell_type": "markdown",
   "metadata": {},
   "source": [
    "## First paragraph of *Results*."
   ]
  },
  {
   "cell_type": "code",
   "execution_count": null,
   "metadata": {},
   "outputs": [],
   "source": [
    "ba.save_for_permutation((df_001, df_002, df_003, df_006, df_007, df_008, df_009, df_010, df_011, df_014, \n",
    "                         df_018, df_020, df_021, df_024, df_025, df_026, df_027, df_028, df_029, df_030, \n",
    "                         df_031, df_033, df_034, df_035, df_036, df_037, df_038, df_039, df_041, df_043, \n",
    "                         df_044, df_045, df_046, df_047, df_048, df_049, df_050, df_056), \n",
    "                        (1, 2, 3, 6, 7, 8, 9, 10, 11, 14, 18, 20, 21, 24, 25, 26, 27, 28, 29, 30, 31, 33, 34, \n",
    "                         35, 36, 37, 38, 39, 41, 43, 44, 45, 46, 47, 48, 49, 50, 56), project_dir, task)"
   ]
  },
  {
   "cell_type": "markdown",
   "metadata": {},
   "source": [
    "STOP POINT 1: Before continuing, generate permuted datasets (see README)."
   ]
  },
  {
   "cell_type": "code",
   "execution_count": null,
   "metadata": {},
   "outputs": [],
   "source": [
    "# Print p-value and peak-to-peak of the serial dependence effect across subjects and delays.\n",
    "ba.perform_permutation_test((df_001, df_002, df_003, df_006, df_007, df_008, df_009, df_010, df_011, df_014, \n",
    "                             df_018, df_020, df_021, df_024, df_025, df_026, df_027, df_028, df_029, df_030, \n",
    "                             df_031, df_033, df_034, df_035, df_036, df_037, df_038, df_039, df_041, df_043,\n",
    "                             df_044, df_045, df_046, df_047, df_048, df_049, df_050, df_056), \n",
    "                            (1, 2, 3, 6, 7, 8, 9, 10, 11, 14, 18, 20, 21, 24, 25, 26, 27, 28, 29, 30, 31, 33, \n",
    "                             34, 35, 36, 37, 38, 39, 41, 43, 44, 45, 46, 47, 48, 49, 50, 56), project_dir,\n",
    "                            use_clifford=False, concat=True, task_name=task)"
   ]
  },
  {
   "cell_type": "markdown",
   "metadata": {},
   "source": [
    "STOP POINT 2: Before continuing, perform the bootstrap (see README)."
   ]
  },
  {
   "cell_type": "code",
   "execution_count": null,
   "metadata": {},
   "outputs": [],
   "source": [
    "# Print bootstrapped 95% confidence interval.\n",
    "ba.print_confidence_interval((df_001, df_002, df_003, df_006, df_007, df_008, df_009, df_010, df_011, df_014, \n",
    "                              df_018, df_020, df_021, df_024, df_025, df_026, df_027, df_028, df_029, df_030, \n",
    "                              df_031, df_033, df_034, df_035, df_036, df_037, df_038, df_039, df_041, df_043,\n",
    "                              df_044, df_045, df_046, df_047, df_048, df_049, df_050, df_056), \n",
    "                             (1, 2, 3, 6, 7, 8, 9, 10, 11, 14, 18, 20, 21, 24, 25, 26, 27, 28, 29, 30, 31, 33, \n",
    "                              34, 35, 36, 37, 38, 39, 41, 43, 44, 45, 46, 47, 48, 49, 50, 56), project_dir, \n",
    "                             task_name=task)"
   ]
  },
  {
   "cell_type": "code",
   "execution_count": null,
   "metadata": {},
   "outputs": [],
   "source": [
    "ba.save_for_permutation((df_001, df_002, df_003, df_006, df_007, df_008, df_009, df_010, df_011, df_014, \n",
    "                         df_018, df_020, df_021, df_024, df_025, df_026, df_027, df_028, df_029, df_030, \n",
    "                         df_031, df_033, df_034, df_035, df_036, df_037, df_038, df_039, df_041, df_043,\n",
    "                         df_044, df_045, df_046, df_047, df_048, df_049, df_050, df_056), \n",
    "                        (1, 2, 3, 6, 7, 8, 9, 10, 11, 14, 18, 20, 21, 24, 25, 26, 27, 28, 29, 30, 31, 33, \n",
    "                         34, 35, 36, 37, 38, 39, 41, 43, 44, 45, 46, 47, 48, 49, 50, 56), project_dir, task_name=task,\n",
    "                        future=True)"
   ]
  },
  {
   "cell_type": "markdown",
   "metadata": {},
   "source": [
    "STOP POINT 3: Before continuing, generate permuted datasets (see README)."
   ]
  },
  {
   "cell_type": "code",
   "execution_count": null,
   "metadata": {},
   "outputs": [],
   "source": [
    "# Print p-value and peak-to-peak of the \"future dependence\" effect across subjects and delays.\n",
    "ba.perform_permutation_test((df_001, df_002, df_003, df_006, df_007, df_008, df_009, df_010, df_011, df_014, \n",
    "                             df_018, df_020, df_021, df_024, df_025, df_026, df_027, df_028, df_029, df_030, \n",
    "                             df_031, df_033, df_034, df_035, df_036, df_037, df_038, df_039, df_041, df_043,\n",
    "                             df_044, df_045, df_046, df_047, df_048, df_049, df_050, df_056), \n",
    "                            (1, 2, 3, 6, 7, 8, 9, 10, 11, 14, 18, 20, 21, 24, 25, 26, 27, 28, 29, 30, 31, 33, \n",
    "                             34, 35, 36, 37, 38, 39, 41, 43, 44, 45, 46, 47, 48, 49, 50, 56), project_dir,\n",
    "                            concat=True, use_clifford=False, future=True, two_tailed=True, task_name=task)"
   ]
  },
  {
   "cell_type": "markdown",
   "metadata": {},
   "source": [
    "STOP POINT 4: Before continuing, perform the bootstrap (see README)."
   ]
  },
  {
   "cell_type": "code",
   "execution_count": null,
   "metadata": {},
   "outputs": [],
   "source": [
    "# Print bootstrapped 95% confidence interval.\n",
    "ba.print_confidence_interval((df_001, df_002, df_003, df_006, df_007, df_008, df_009, df_010, df_011, df_014, \n",
    "                              df_018, df_020, df_021, df_024, df_025, df_026, df_027, df_028, df_029, df_030, \n",
    "                              df_031, df_033, df_034, df_035, df_036, df_037, df_038, df_039, df_041, df_043,\n",
    "                              df_044, df_045, df_046, df_047, df_048, df_049, df_050, df_056), \n",
    "                             (1, 2, 3, 6, 7, 8, 9, 10, 11, 14, 18, 20, 21, 24, 25, 26, 27, 28, 29, 30, 31, 33, \n",
    "                              34, 35, 36, 37, 38, 39, 41, 43, 44, 45, 46, 47, 48, 49, 50, 56), project_dir,\n",
    "                             task_name=task, future=True)"
   ]
  },
  {
   "cell_type": "markdown",
   "metadata": {},
   "source": [
    "## Second paragraph of *Results*."
   ]
  },
  {
   "cell_type": "code",
   "execution_count": null,
   "metadata": {},
   "outputs": [],
   "source": [
    "ba.save_for_permutation((df_001, df_002, df_003, df_006, df_007, df_008, df_009, df_010, df_011, df_014, \n",
    "                         df_018, df_020, df_021, df_024, df_025, df_026, df_027, df_028, df_029, df_030, \n",
    "                         df_031, df_033, df_034, df_035, df_036, df_037, df_038, df_039, df_041, df_043,\n",
    "                         df_044, df_045, df_046, df_047, df_048, df_049, df_050, df_056), \n",
    "                        (1, 2, 3, 6, 7, 8, 9, 10, 11, 14, 18, 20, 21, 24, 25, 26, 27, 28, 29, 30, 31, 33, \n",
    "                         34, 35, 36, 37, 38, 39, 41, 43, 44, 45, 46, 47, 48, 49, 50, 56), project_dir, task_name=task,\n",
    "                        perception=True)\n",
    "ba.save_for_permutation((df_001, df_002, df_003, df_006, df_007, df_008, df_009, df_010, df_011, df_014, \n",
    "                         df_018, df_020, df_021, df_024, df_025, df_026, df_027, df_028, df_029, df_030, \n",
    "                         df_031, df_033, df_034, df_035, df_036, df_037, df_038, df_039, df_041, df_043,\n",
    "                         df_044, df_045, df_046, df_047, df_048, df_049, df_050, df_056), \n",
    "                        (1, 2, 3, 6, 7, 8, 9, 10, 11, 14, 18, 20, 21, 24, 25, 26, 27, 28, 29, 30, 31, 33, \n",
    "                         34, 35, 36, 37, 38, 39, 41, 43, 44, 45, 46, 47, 48, 49, 50, 56), project_dir, task_name=task,\n",
    "                        only_delay=1)\n",
    "ba.save_for_permutation((df_001, df_002, df_003, df_006, df_007, df_008, df_009, df_010, df_011, df_014, \n",
    "                         df_018, df_020, df_021, df_024, df_025, df_026, df_027, df_028, df_029, df_030, \n",
    "                         df_031, df_033, df_034, df_035, df_036, df_037, df_038, df_039, df_041, df_043,\n",
    "                         df_044, df_045, df_046, df_047, df_048, df_049, df_050, df_056), \n",
    "                        (1, 2, 3, 6, 7, 8, 9, 10, 11, 14, 18, 20, 21, 24, 25, 26, 27, 28, 29, 30, 31, 33, \n",
    "                         34, 35, 36, 37, 38, 39, 41, 43, 44, 45, 46, 47, 48, 49, 50, 56), project_dir, task_name=task,\n",
    "                        only_delay=3)\n",
    "ba.save_for_permutation((df_001, df_002, df_003, df_006, df_007, df_008, df_009, df_010, df_011, df_014, \n",
    "                         df_018, df_020, df_021, df_024, df_025, df_026, df_027, df_028, df_029, df_030, \n",
    "                         df_031, df_033, df_034, df_035, df_036, df_037, df_038, df_039, df_041, df_043, \n",
    "                         df_044, df_045, df_046, df_047, df_048, df_049, df_050, df_056), \n",
    "                        (1, 2, 3, 6, 7, 8, 9, 10, 11, 14, 18, 20, 21, 24, 25, 26, 27, 28, 29, 30, 31, 33, \n",
    "                         34, 35, 36, 37, 38, 39, 41, 43, 44, 45, 46, 47, 48, 49, 50, 56), project_dir, task_name=task,\n",
    "                        only_delay=6)\n",
    "ba.save_for_permutation((df_001, df_002, df_003, df_006, df_007, df_008, df_009, df_010, df_011, df_014, \n",
    "                         df_018, df_020, df_021, df_024, df_025, df_026, df_027, df_028, df_029, df_030, \n",
    "                         df_031, df_033, df_034, df_035, df_036, df_037, df_038, df_039, df_041, df_043, \n",
    "                         df_044, df_045, df_046, df_047, df_048, df_049, df_050, df_056), \n",
    "                        (1, 2, 3, 6, 7, 8, 9, 10, 11, 14, 18, 20, 21, 24, 25, 26, 27, 28, 29, 30, 31, 33, \n",
    "                         34, 35, 36, 37, 38, 39, 41, 43, 44, 45, 46, 47, 48, 49, 50, 56), project_dir, task_name=task,\n",
    "                        only_delay=10)"
   ]
  },
  {
   "cell_type": "markdown",
   "metadata": {},
   "source": [
    "STOP POINT 5: Before continuing, generate permuted datasets (see README)."
   ]
  },
  {
   "cell_type": "code",
   "execution_count": null,
   "metadata": {},
   "outputs": [],
   "source": [
    "# Print p-values for delays and comparisons between delays.\n",
    "ba.perform_permutation_test_conditions((df_001, df_002, df_003, df_006, df_007, df_008, df_009, df_010, df_011, df_014, \n",
    "                                        df_018, df_020, df_021, df_024, df_025, df_026, df_027, df_028, df_029, df_030, \n",
    "                                        df_031, df_033, df_034, df_035, df_036, df_037, df_038, df_039, df_041, df_043,\n",
    "                                        df_044, df_045, df_046, df_047, df_048, df_049, df_050, df_056), \n",
    "                                       (1, 2, 3, 6, 7, 8, 9, 10, 11, 14, 18, 20, 21, 24, 25, 26, 27, 28, 29, 30, 31, \n",
    "                                        33, 34, 35, 36, 37, 38, 39, 41, 43, 44, 45, 46, 47, 48, 49, 50, 56), \n",
    "                                       project_dir, use_clifford=False, task_name=task)"
   ]
  },
  {
   "cell_type": "markdown",
   "metadata": {},
   "source": [
    "STOP POINT 6: Before continuing, perform the bootstrap (see README)."
   ]
  },
  {
   "cell_type": "code",
   "execution_count": null,
   "metadata": {
    "scrolled": false
   },
   "outputs": [],
   "source": [
    "# Print peak-to-peak, CI low, and CI high, and then plot a bar graph for the different delays.\n",
    "ba.plot_bars((df_001, df_002, df_003, df_006, df_007, df_008, df_009, df_010, df_011, df_014, df_018, df_020, df_021, \n",
    "              df_024, df_025, df_026, df_027, df_028, df_029, df_030, df_031, df_033, df_034, df_035, df_036, df_037, \n",
    "              df_038, df_039, df_041, df_043, df_044, df_045, df_046, df_047, df_048, df_049, df_050, df_056), \n",
    "             (1, 2, 3, 6, 7, 8, 9, 10, 11, 14, 18, 20, 21, 24, 25, 26, 27, 28, 29, 30, 31, 33, 34, 35, 36, 37, 38, 39, \n",
    "              41, 43, 44, 45, 46, 47, 48, 49, 50, 56), project_dir, task_name=task, use_clifford=False)"
   ]
  },
  {
   "cell_type": "code",
   "execution_count": null,
   "metadata": {},
   "outputs": [],
   "source": [
    "all_subs = pd.concat((df_001, df_002, df_003, df_006, df_007, df_008, df_009, df_010, df_011, df_014, \n",
    "                      df_018, df_020, df_021, df_024, df_025, df_026, df_027, df_028, df_029, df_030, \n",
    "                      df_031, df_033, df_034, df_035, df_036, df_037, df_038, df_039, df_041, df_043,\n",
    "                      df_044, df_045, df_046, df_047, df_048, df_049, df_050, df_056))"
   ]
  },
  {
   "cell_type": "code",
   "execution_count": null,
   "metadata": {},
   "outputs": [],
   "source": [
    "# Print peak-to-peak for Clifford and DoG fits, and then plot tuning.\n",
    "ba.plot_running_avg_with_fit(all_subs.loc[all_subs.delays == 0], 'curr_0', bin_step=20, bin_width=700)"
   ]
  },
  {
   "cell_type": "code",
   "execution_count": null,
   "metadata": {},
   "outputs": [],
   "source": [
    "ba.plot_running_avg_with_fit(all_subs.loc[all_subs.delays == 6], 'curr_6', bin_step=20, bin_width=700)"
   ]
  },
  {
   "cell_type": "code",
   "execution_count": null,
   "metadata": {},
   "outputs": [],
   "source": [
    "# Print power-law model parameters, CI low, and CI high, and then plot the variance. \n",
    "ba.plot_ploner_fig_3(all_subs)"
   ]
  },
  {
   "cell_type": "markdown",
   "metadata": {},
   "source": [
    "## Third paragraph of *Results*."
   ]
  },
  {
   "cell_type": "markdown",
   "metadata": {},
   "source": [
    "STOP POINT 7: Before continuing, perform the bootstrap (see README)."
   ]
  },
  {
   "cell_type": "code",
   "execution_count": null,
   "metadata": {},
   "outputs": [],
   "source": [
    "ba.plot_bars((df_008,), (8,), project_dir, use_clifford=False, ylim=(-10, 16), f_name='008', task_name=task)"
   ]
  },
  {
   "cell_type": "code",
   "execution_count": null,
   "metadata": {},
   "outputs": [],
   "source": [
    "ba.plot_bars((df_049,), (49,), project_dir, use_clifford=False, ylim=(-10, 16), f_name='049', task_name=task)"
   ]
  },
  {
   "cell_type": "code",
   "execution_count": null,
   "metadata": {},
   "outputs": [],
   "source": [
    "ba.plot_bars((df_026,), (26,), project_dir, use_clifford=False, ylim=(-10, 16), f_name='026', task_name=task)"
   ]
  },
  {
   "cell_type": "code",
   "execution_count": null,
   "metadata": {},
   "outputs": [],
   "source": [
    "ba.plot_bars((df_001,), (1,), project_dir, use_clifford=False, ylim=(-10, 16), f_name='001', task_name=task)"
   ]
  },
  {
   "cell_type": "markdown",
   "metadata": {},
   "source": [
    "STOP POINT 8: Before continuing, generate permuted datasets and perform the bootstrap (see README)."
   ]
  },
  {
   "cell_type": "code",
   "execution_count": null,
   "metadata": {},
   "outputs": [],
   "source": [
    "# Print p-value and sign of the effect for each subject fit well by the DoG.\n",
    "ba.perform_permutation_test((df_008, df_030, df_045, df_028, df_046, df_043, df_035, df_007, df_027, df_044, \n",
    "                             df_047, df_031, df_041, df_025, df_056, df_048, df_034, df_003, df_036, df_011, \n",
    "                             df_020, df_029, df_018, df_037, df_050, df_009, df_002, df_010, df_006, df_014, \n",
    "                             df_024, df_021, df_049, df_001, df_026), \n",
    "                            (8, 30, 45, 28, 46, 43, 35, 7, 27, 44, 47, 31, 41, 25, 56, 48, 34, 3, 36, 11, 20, 29, \n",
    "                             18, 37, 50, 9, 2, 10, 6, 14, 24, 21, 49, 1, 26), project_dir, task_name=task,\n",
    "                            use_clifford=False)"
   ]
  },
  {
   "cell_type": "markdown",
   "metadata": {},
   "source": [
    "STOP POINT 9: Before continuing, generate permuted datasets and perform the bootstrap (see README)."
   ]
  },
  {
   "cell_type": "code",
   "execution_count": null,
   "metadata": {},
   "outputs": [],
   "source": [
    "# For the remaining subjects, print the p-value and sign of the effect using the Clifford fit.\n",
    "ba.perform_permutation_test((df_039, df_038, df_033), (39, 38, 33), project_dir, use_clifford=True, task_name=task)"
   ]
  },
  {
   "cell_type": "code",
   "execution_count": null,
   "metadata": {},
   "outputs": [],
   "source": [
    "# Print peak-to-peak values for all subjects and then plot them.\n",
    "ba.plot_indiv_subs((df_008, df_030, df_045, df_028, df_046, df_043, df_035, df_007, df_027, df_044, df_047, \n",
    "                    df_031, df_041, df_025, df_056, df_048, df_039, df_038, df_034, df_003, df_036, df_033,\n",
    "                    df_011, df_020, df_029, df_018, df_037, df_050, df_009, df_002, df_010, df_006, df_014, \n",
    "                    df_024, df_021, df_049, df_001, df_026), \n",
    "                   (8, 30, 45, 28, 46, 43, 35, 7, 27, 44, 47, 31, 41, 25, 56, 48, 39, 38, 34, 3, 36, 33, 11, 20, \n",
    "                    29, 18, 37, 50, 9, 2, 10, 6, 14, 24, 21, 49, 1, 26),\n",
    "                   ('dog', 'dog', 'dog', 'dog', 'dog', 'dog', 'dog', 'dog', 'dog', 'dog', 'dog', 'dog', 'dog', \n",
    "                    'dog', 'dog', 'dog', 'clifford', 'clifford', 'dog', 'dog', 'dog', 'clifford', 'dog', 'dog', \n",
    "                    'dog', 'dog', 'dog', 'dog', 'dog', 'dog', 'dog', 'dog', 'dog', 'dog', 'dog', 'dog', 'dog', \n",
    "                    'dog'), project_dir, task_name=task)"
   ]
  },
  {
   "cell_type": "code",
   "execution_count": null,
   "metadata": {},
   "outputs": [],
   "source": [
    "ba.plot_running_avg_with_fit(df_008, '008', bin_step=10, bin_width=130, single=True, fixed_ylim=True)"
   ]
  },
  {
   "cell_type": "code",
   "execution_count": null,
   "metadata": {},
   "outputs": [],
   "source": [
    "ba.plot_running_avg_with_fit(df_038, '038', bin_step=10, bin_width=130, single=True, fixed_ylim=True)"
   ]
  },
  {
   "cell_type": "code",
   "execution_count": null,
   "metadata": {},
   "outputs": [],
   "source": [
    "ba.plot_running_avg_with_fit(df_049, '049', bin_step=10, bin_width=130, single=True, fixed_ylim=True)"
   ]
  },
  {
   "cell_type": "markdown",
   "metadata": {},
   "source": [
    "## Fourth paragraph of *Results*."
   ]
  },
  {
   "cell_type": "code",
   "execution_count": null,
   "metadata": {},
   "outputs": [],
   "source": [
    "ba.save_for_permutation((df_001, df_002, df_003, df_006, df_007, df_008, df_009, df_010, df_011, df_014, \n",
    "                         df_018, df_020, df_021, df_024, df_025, df_026, df_027, df_028, df_029, df_030, \n",
    "                         df_031, df_033, df_034, df_035, df_036, df_037, df_038, df_039, df_041, df_043,\n",
    "                         df_044, df_045, df_046, df_047, df_048, df_049, df_050, df_056), \n",
    "                        (1, 2, 3, 6, 7, 8, 9, 10, 11, 14, 18, 20, 21, 24, 25, 26, 27, 28, 29, 30, 31, \n",
    "                         33, 34, 35, 36, 37, 38, 39, 41, 43, 44, 45, 46, 47, 48, 49, 50, 56), project_dir,\n",
    "                        only_delay=0, previous=True, task_name=task)\n",
    "ba.save_for_permutation((df_001, df_002, df_003, df_006, df_007, df_008, df_009, df_010, df_011, df_014, \n",
    "                         df_018, df_020, df_021, df_024, df_025, df_026, df_027, df_028, df_029, df_030, \n",
    "                         df_031, df_033, df_034, df_035, df_036, df_037, df_038, df_039, df_041, df_043,\n",
    "                         df_044, df_045, df_046, df_047, df_048, df_049, df_050, df_056), \n",
    "                        (1, 2, 3, 6, 7, 8, 9, 10, 11, 14, 18, 20, 21, 24, 25, 26, 27, 28, 29, 30, 31, \n",
    "                         33, 34, 35, 36, 37, 38, 39, 41, 43, 44, 45, 46, 47, 48, 49, 50, 56), project_dir,\n",
    "                        only_delay=1, previous=True, task_name=task)\n",
    "ba.save_for_permutation((df_001, df_002, df_003, df_006, df_007, df_008, df_009, df_010, df_011, df_014, \n",
    "                         df_018, df_020, df_021, df_024, df_025, df_026, df_027, df_028, df_029, df_030, \n",
    "                         df_031, df_033, df_034, df_035, df_036, df_037, df_038, df_039, df_041, df_043,\n",
    "                         df_044, df_045, df_046, df_047, df_048, df_049, df_050, df_056), \n",
    "                        (1, 2, 3, 6, 7, 8, 9, 10, 11, 14, 18, 20, 21, 24, 25, 26, 27, 28, 29, 30, 31, \n",
    "                         33, 34, 35, 36, 37, 38, 39, 41, 43, 44, 45, 46, 47, 48, 49, 50, 56), project_dir,\n",
    "                        only_delay=3, previous=True, task_name=task)\n",
    "ba.save_for_permutation((df_001, df_002, df_003, df_006, df_007, df_008, df_009, df_010, df_011, df_014, \n",
    "                         df_018, df_020, df_021, df_024, df_025, df_026, df_027, df_028, df_029, df_030, \n",
    "                         df_031, df_033, df_034, df_035, df_036, df_037, df_038, df_039, df_041, df_043,\n",
    "                         df_044, df_045, df_046, df_047, df_048, df_049, df_050, df_056), \n",
    "                        (1, 2, 3, 6, 7, 8, 9, 10, 11, 14, 18, 20, 21, 24, 25, 26, 27, 28, 29, 30, 31, \n",
    "                         33, 34, 35, 36, 37, 38, 39, 41, 43, 44, 45, 46, 47, 48, 49, 50, 56), project_dir,\n",
    "                        only_delay=6, previous=True, task_name=task)\n",
    "ba.save_for_permutation((df_001, df_002, df_003, df_006, df_007, df_008, df_009, df_010, df_011, df_014, \n",
    "                         df_018, df_020, df_021, df_024, df_025, df_026, df_027, df_028, df_029, df_030, \n",
    "                         df_031, df_033, df_034, df_035, df_036, df_037, df_038, df_039, df_041, df_043,\n",
    "                         df_044, df_045, df_046, df_047, df_048, df_049, df_050, df_056), \n",
    "                        (1, 2, 3, 6, 7, 8, 9, 10, 11, 14, 18, 20, 21, 24, 25, 26, 27, 28, 29, 30, 31, \n",
    "                         33, 34, 35, 36, 37, 38, 39, 41, 43, 44, 45, 46, 47, 48, 49, 50, 56), project_dir, \n",
    "                        only_delay=10, previous=True, task_name=task)"
   ]
  },
  {
   "cell_type": "markdown",
   "metadata": {},
   "source": [
    "STOP POINT 10: Before continuing, generate permuted datasets (see README)."
   ]
  },
  {
   "cell_type": "code",
   "execution_count": null,
   "metadata": {},
   "outputs": [],
   "source": [
    "# Print p-values for delays and comparisons between delays using the DoG model.\n",
    "ba.perform_permutation_test_conditions((df_001, df_002, df_003, df_006, df_007, df_008, df_009, df_010, df_011, df_014, \n",
    "                                        df_018, df_020, df_021, df_024, df_025, df_026, df_027, df_028, df_029, df_030, \n",
    "                                        df_031, df_033, df_034, df_035, df_036, df_037, df_038, df_039, df_041, df_043,\n",
    "                                        df_044, df_045, df_046, df_047, df_048, df_049, df_050, df_056), \n",
    "                                       (1, 2, 3, 6, 7, 8, 9, 10, 11, 14, 18, 20, 21, 24, 25, 26, 27, 28, 29, 30, 31, \n",
    "                                        33, 34, 35, 36, 37, 38, 39, 41, 43, 44, 45, 46, 47, 48, 49, 50, 56), \n",
    "                                       project_dir, previous=True, use_clifford=False, task_name=task)"
   ]
  },
  {
   "cell_type": "code",
   "execution_count": null,
   "metadata": {},
   "outputs": [],
   "source": [
    "# Print p-values for delays and comparisons between delays using the Clifford model.\n",
    "ba.perform_permutation_test_conditions((df_001, df_002, df_003, df_006, df_007, df_008, df_009, df_010, df_011, df_014, \n",
    "                                        df_018, df_020, df_021, df_024, df_025, df_026, df_027, df_028, df_029, df_030, \n",
    "                                        df_031, df_033, df_034, df_035, df_036, df_037, df_038, df_039, df_041, df_043,\n",
    "                                        df_044, df_045, df_046, df_047, df_048, df_049, df_050, df_056), \n",
    "                                       (1, 2, 3, 6, 7, 8, 9, 10, 11, 14, 18, 20, 21, 24, 25, 26, 27, 28, 29, 30, 31, \n",
    "                                        33, 34, 35, 36, 37, 38, 39, 41, 43, 44, 45, 46, 47, 48, 49, 50, 56), \n",
    "                                       project_dir, previous=True, use_clifford=True, task_name=task)"
   ]
  },
  {
   "cell_type": "markdown",
   "metadata": {},
   "source": [
    "STOP POINT 11: Before continuing, perform the bootstrap (see README)."
   ]
  },
  {
   "cell_type": "code",
   "execution_count": null,
   "metadata": {},
   "outputs": [],
   "source": [
    "ba.plot_bars((df_001, df_002, df_003, df_006, df_007, df_008, df_009, df_010, df_011, df_014, df_018, df_020, df_021, \n",
    "              df_024, df_025, df_026, df_027, df_028, df_029, df_030, df_031, df_033, df_034, df_035, df_036, df_037, \n",
    "              df_038, df_039, df_041, df_043, df_044, df_045, df_046, df_047, df_048, df_049, df_050, df_056), \n",
    "             (1, 2, 3, 6, 7, 8, 9, 10, 11, 14, 18, 20, 21, 24, 25, 26, 27, 28, 29, 30, 31, 33, 34, 35, 36, 37, 38, 39, \n",
    "              41, 43, 44, 45, 46, 47, 48, 49, 50, 56), project_dir, previous=True, use_clifford=False, task_name=task)"
   ]
  },
  {
   "cell_type": "code",
   "execution_count": null,
   "metadata": {
    "scrolled": false
   },
   "outputs": [],
   "source": [
    "ba.plot_bars((df_001, df_002, df_003, df_006, df_007, df_008, df_009, df_010, df_011, df_014, df_018, df_020, df_021, \n",
    "              df_024, df_025, df_026, df_027, df_028, df_029, df_030, df_031, df_033, df_034, df_035, df_036, df_037, \n",
    "              df_038, df_039, df_041, df_043, df_044, df_045, df_046, df_047, df_048, df_049, df_050, df_056), \n",
    "             (1, 2, 3, 6, 7, 8, 9, 10, 11, 14, 18, 20, 21, 24, 25, 26, 27, 28, 29, 30, 31, 33, 34, 35, 36, 37, 38, 39, \n",
    "              41, 43, 44, 45, 46, 47, 48, 49, 50, 56), project_dir, previous=True, use_clifford=True, task_name=task)"
   ]
  },
  {
   "cell_type": "code",
   "execution_count": null,
   "metadata": {},
   "outputs": [],
   "source": [
    "ba.plot_running_avg_with_fit(all_subs.loc[all_subs.prev_delay == 3], 'prev_3', bin_step=20, bin_width=700)"
   ]
  },
  {
   "cell_type": "code",
   "execution_count": null,
   "metadata": {},
   "outputs": [],
   "source": [
    "ba.plot_running_avg_with_fit(all_subs.loc[all_subs.prev_delay == 10], 'prev_10', bin_step=20, bin_width=700)"
   ]
  },
  {
   "cell_type": "markdown",
   "metadata": {},
   "source": [
    "## Remainder of *Results: Experiment 1*."
   ]
  },
  {
   "cell_type": "code",
   "execution_count": null,
   "metadata": {},
   "outputs": [],
   "source": [
    "ba.save_for_matlab((df_001, df_002, df_003, df_006, df_007, df_008, df_009, df_010, df_011, df_014, \n",
    "                    df_018, df_020, df_021, df_024, df_025, df_026, df_027, df_028, df_029, df_030, \n",
    "                    df_031, df_033, df_034, df_035, df_036, df_037, df_038, df_039, df_041, df_043,\n",
    "                    df_044, df_045, df_046, df_047, df_048, df_049, df_050, df_056), \n",
    "                   (1, 2, 3, 6, 7, 8, 9, 10, 11, 14, 18, 20, 21, 24, 25, 26, 27, 28, 29, 30, 31, \n",
    "                    33, 34, 35, 36, 37, 38, 39, 41, 43, 44, 45, 46, 47, 48, 49, 50, 56), project_dir, task)"
   ]
  },
  {
   "cell_type": "markdown",
   "metadata": {},
   "source": [
    "STOP POINT 12: Before continuing, fit the models to the data (see README)."
   ]
  },
  {
   "cell_type": "code",
   "execution_count": null,
   "metadata": {},
   "outputs": [],
   "source": [
    "fits = ba.load_all_fits((1, 2, 3, 6, 7, 8, 9, 10, 11, 14, 18, 20, 21, 24, 25, 26, 27, 28, 29, 30, 31, \n",
    "                         33, 34, 35, 36, 37, 38, 39, 41, 43, 44, 45, 46, 47, 48, 49, 50, 56), project_dir, task)"
   ]
  },
  {
   "cell_type": "code",
   "execution_count": null,
   "metadata": {
    "scrolled": false
   },
   "outputs": [],
   "source": [
    "# Print means and SEM for comparisons among base models.\n",
    "ba.plot_model_fits(fits, (1, 2, 3, 6, 7, 8, 9, 10, 11, 14, 18, 20, 21, 24, 25, 26, 27, 28, 29, 30, 31, \n",
    "                          33, 34, 35, 36, 37, 38, 39, 41, 43, 44, 45, 46, 47, 48, 49, 50, 56), \n",
    "                   exclude_models=['VMRW+attraction', 'VMRW+swap', 'VP_attraction', 'VM_attraction'])"
   ]
  },
  {
   "cell_type": "code",
   "execution_count": null,
   "metadata": {
    "scrolled": false
   },
   "outputs": [],
   "source": [
    "# Print means and SEM for comparisons among versions of VMRW.\n",
    "ba.plot_model_fits(fits, (1, 2, 3, 6, 7, 8, 9, 10, 11, 14, 18, 20, 21, 24, 25, 26, 27, 28, 29, 30, 31, \n",
    "                          33, 34, 35, 36, 37, 38, 39, 41, 43, 44, 45, 46, 47, 48, 49, 50, 56), \n",
    "                   which_models=['VMRW', 'VMRW_dog', 'VMRW+swap'], specifier='_2')"
   ]
  },
  {
   "cell_type": "code",
   "execution_count": null,
   "metadata": {},
   "outputs": [],
   "source": [
    "# Print means and SEM for comparisons among base models + DoG tuning of serial dependence.\n",
    "ba.plot_model_fits(fits, (1, 2, 3, 6, 7, 8, 9, 10, 11, 14, 18, 20, 21, 24, 25, 26, 27, 28, 29, 30, 31, \n",
    "                          33, 34, 35, 36, 37, 38, 39, 41, 43, 44, 45, 46, 47, 48, 49, 50, 56), \n",
    "                   which_models=['EP_dog', 'VMRW_dog', 'VP_dog'], specifier='_2')"
   ]
  },
  {
   "cell_type": "markdown",
   "metadata": {},
   "source": [
    "## Supplementary Figure 3."
   ]
  },
  {
   "cell_type": "code",
   "execution_count": null,
   "metadata": {},
   "outputs": [],
   "source": [
    "# Print mean and SEM for subjects that used small and large monitor.\n",
    "small_mon = np.array([-5.08203658, -1.14252441, 1.6947146, 3.50817558, 3.55225178, 3.5737645, 3.61581465, 5.17686595])\n",
    "large_mon = np.array([-4.08967976, -2.79326456, -2.61575606, -1.79987716, -1.79829869, -1.61336284, -1.12550564,\n",
    "                      -0.89825815, -0.83490259, -0.39022841, 0.66051318, 0.95591646, 1.10032917, 1.28004931, \n",
    "                      1.48586889, 1.57201015, 1.57484278, 1.79316289, 1.95906601, 2.19717887, 2.29572272, 2.60195243,\n",
    "                      2.71309802, 2.91739667, 2.97046358, 4.09081365, 4.12954353, 4.7846745, 5.11073351, 7.17602544])\n",
    "\n",
    "print np.mean(small_mon), np.std(small_mon) / np.sqrt(len(small_mon))\n",
    "print np.mean(large_mon), np.std(large_mon) / np.sqrt(len(large_mon))"
   ]
  },
  {
   "cell_type": "code",
   "execution_count": null,
   "metadata": {},
   "outputs": [],
   "source": [
    "ba.plot_indiv_subs((df_008, df_030, df_045, df_028, df_046, df_043, df_035, df_007, df_027, df_044, df_047, \n",
    "                    df_031, df_041, df_025, df_056, df_048, df_039, df_038, df_034, df_003, df_036, df_033,\n",
    "                    df_011, df_020, df_029, df_018, df_037, df_050, df_009, df_002, df_010, df_006, df_014, \n",
    "                    df_024, df_021, df_049, df_001, df_026), \n",
    "                   (8, 30, 45, 28, 46, 43, 35, 7, 27, 44, 47, 31, 41, 25, 56, 48, 39, 38, 34, 3, 36, 33, 11, 20, \n",
    "                    29, 18, 37, 50, 9, 2, 10, 6, 14, 24, 21, 49, 1, 26),\n",
    "                   ('dog', 'dog', 'dog', 'dog', 'dog', 'dog', 'dog', 'dog', 'dog', 'dog', 'dog', 'dog', 'dog', \n",
    "                    'dog', 'dog', 'dog', 'clifford', 'clifford', 'dog', 'dog', 'dog', 'clifford', 'dog', 'dog', \n",
    "                    'dog', 'dog', 'dog', 'dog', 'dog', 'dog', 'dog', 'dog', 'dog', 'dog', 'dog', 'dog', 'dog', \n",
    "                    'dog'), project_dir, supp=True, task_name=task)"
   ]
  },
  {
   "cell_type": "code",
   "execution_count": null,
   "metadata": {},
   "outputs": [],
   "source": []
  }
 ],
 "metadata": {
  "anaconda-cloud": {},
  "kernelspec": {
   "display_name": "Python 2",
   "language": "python",
   "name": "python2"
  },
  "language_info": {
   "codemirror_mode": {
    "name": "ipython",
    "version": 2
   },
   "file_extension": ".py",
   "mimetype": "text/x-python",
   "name": "python",
   "nbconvert_exporter": "python",
   "pygments_lexer": "ipython2",
   "version": "2.7.14"
  }
 },
 "nbformat": 4,
 "nbformat_minor": 1
}
