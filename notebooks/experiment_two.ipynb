{
 "cells": [
  {
   "cell_type": "markdown",
   "metadata": {},
   "source": [
    "# Experiment 2"
   ]
  },
  {
   "cell_type": "code",
   "execution_count": null,
   "metadata": {},
   "outputs": [],
   "source": [
    "# Enter as a string the full path to the repository.\n",
    "project_dir = '/home/dan/bliss_sd_behavior_2017'"
   ]
  },
  {
   "cell_type": "code",
   "execution_count": null,
   "metadata": {},
   "outputs": [],
   "source": [
    "%matplotlib inline"
   ]
  },
  {
   "cell_type": "code",
   "execution_count": null,
   "metadata": {},
   "outputs": [],
   "source": [
    "import os\n",
    "import sys\n",
    "\n",
    "import numpy as np\n",
    "import pandas as pd"
   ]
  },
  {
   "cell_type": "code",
   "execution_count": null,
   "metadata": {},
   "outputs": [],
   "source": [
    "module_path = os.path.abspath(os.path.join('..'))\n",
    "if module_path not in sys.path:\n",
    "    sys.path.append(module_path)"
   ]
  },
  {
   "cell_type": "code",
   "execution_count": null,
   "metadata": {},
   "outputs": [],
   "source": [
    "from source import behavior_analysis as ba"
   ]
  },
  {
   "cell_type": "markdown",
   "metadata": {},
   "source": [
    "This notebook generates all the results for Experiment 2, moving first through the *Methods* section of the paper, and then through the *Results*."
   ]
  },
  {
   "cell_type": "markdown",
   "metadata": {},
   "source": [
    "## Load and preprocess the data (second paragraph of *Data Analysis* in *Methods*)."
   ]
  },
  {
   "cell_type": "code",
   "execution_count": null,
   "metadata": {},
   "outputs": [],
   "source": [
    "sessions_11 = xrange(1, 38)\n",
    "sessions_14 = xrange(1, 34)\n",
    "sessions_42 = xrange(1, 15)\n",
    "sessions_rest = xrange(1, 29)\n",
    "task = 'exp2'\n",
    "keys = ('itis', 'stimulus_angles')\n",
    "indices = (1, 0)\n",
    "first_trial_indices_11 = np.arange(0, 999, 27)\n",
    "last_trial_indices_11 = first_trial_indices_11 + 26\n",
    "first_trial_indices_14 = np.concatenate([np.arange(0, 530, 27), np.arange(549, 1017, 36)])\n",
    "last_trial_indices_14 = first_trial_indices_14\n",
    "last_trial_indices_14[:19] += 26\n",
    "last_trial_indices_14[19:] += 35\n",
    "first_trial_indices_rest = np.arange(0, 1008, 36)\n",
    "last_trial_indices_rest = first_trial_indices_rest + 35"
   ]
  },
  {
   "cell_type": "code",
   "execution_count": null,
   "metadata": {},
   "outputs": [],
   "source": [
    "df_017 = ba.get_subject_data(17, sessions_rest, task, keys, indices, project_dir)\n",
    "df_042 = ba.get_subject_data(42, sessions_42, task, keys, indices, project_dir)"
   ]
  },
  {
   "cell_type": "code",
   "execution_count": null,
   "metadata": {},
   "outputs": [],
   "source": [
    "bad_subs_array = np.array([x.errors.abs().mean() for x in [df_017, df_042]])"
   ]
  },
  {
   "cell_type": "code",
   "execution_count": null,
   "metadata": {},
   "outputs": [],
   "source": [
    "# Mean of the mean absolute error across excluded subjects.\n",
    "bad_subs_array.mean()"
   ]
  },
  {
   "cell_type": "code",
   "execution_count": null,
   "metadata": {},
   "outputs": [],
   "source": [
    "# SEM of the mean absolute error across excluded subjects.\n",
    "bad_subs_array.std() / np.sqrt(len(bad_subs_array))"
   ]
  },
  {
   "cell_type": "code",
   "execution_count": null,
   "metadata": {},
   "outputs": [],
   "source": [
    "df_011 = ba.get_subject_data(11, sessions_11, task, keys, indices, project_dir)\n",
    "df_012 = ba.get_subject_data(12, sessions_rest, task, keys, indices, project_dir)\n",
    "df_013 = ba.get_subject_data(13, sessions_rest, task, keys, indices, project_dir)\n",
    "df_014 = ba.get_subject_data(14, sessions_14, task, keys, indices, project_dir)\n",
    "df_015 = ba.get_subject_data(15, sessions_rest, task, keys, indices, project_dir)\n",
    "df_016 = ba.get_subject_data(16, sessions_rest, task, keys, indices, project_dir)\n",
    "df_018 = ba.get_subject_data(18, sessions_rest, task, keys, indices, project_dir)\n",
    "df_020 = ba.get_subject_data(20, sessions_rest, task, keys, indices, project_dir)\n",
    "df_021 = ba.get_subject_data(21, sessions_rest, task, keys, indices, project_dir)\n",
    "df_022 = ba.get_subject_data(22, sessions_rest, task, keys, indices, project_dir)\n",
    "df_023 = ba.get_subject_data(23, sessions_rest, task, keys, indices, project_dir)\n",
    "df_024 = ba.get_subject_data(24, sessions_rest, task, keys, indices, project_dir)\n",
    "df_051 = ba.get_subject_data(51, sessions_rest, task, keys, indices, project_dir)\n",
    "df_053 = ba.get_subject_data(53, sessions_rest, task, keys, indices, project_dir)\n",
    "df_054 = ba.get_subject_data(54, sessions_rest, task, keys, indices, project_dir)\n",
    "df_055 = ba.get_subject_data(55, sessions_rest, task, keys, indices, project_dir)\n",
    "df_057 = ba.get_subject_data(57, sessions_rest, task, keys, indices, project_dir)\n",
    "df_061 = ba.get_subject_data(61, sessions_rest, task, keys, indices, project_dir)"
   ]
  },
  {
   "cell_type": "code",
   "execution_count": null,
   "metadata": {},
   "outputs": [],
   "source": [
    "good_subs_array = np.array([x.errors.abs().mean() for x in [df_011, df_012, df_013, df_014, df_015, df_016, \n",
    "                                                            df_018, df_020, df_021, df_022, df_023, df_024, \n",
    "                                                            df_051, df_053, df_054, df_055, df_057, df_061]])"
   ]
  },
  {
   "cell_type": "code",
   "execution_count": null,
   "metadata": {},
   "outputs": [],
   "source": [
    "# Mean of the mean absolute error across included subjects.\n",
    "good_subs_array.mean()"
   ]
  },
  {
   "cell_type": "code",
   "execution_count": null,
   "metadata": {},
   "outputs": [],
   "source": [
    "# SEM of the mean absolute error across included subjects.\n",
    "good_subs_array.std() / np.sqrt(len(good_subs_array))"
   ]
  },
  {
   "cell_type": "code",
   "execution_count": null,
   "metadata": {},
   "outputs": [],
   "source": [
    "df_011 = ba.add_columns(df_011, first_trial_indices_11, last_trial_indices_11, task)\n",
    "df_012 = ba.add_columns(df_012, first_trial_indices_rest, last_trial_indices_rest, task)\n",
    "df_013 = ba.add_columns(df_013, first_trial_indices_rest, last_trial_indices_rest, task)\n",
    "df_014 = ba.add_columns(df_014, first_trial_indices_14, last_trial_indices_14, task)\n",
    "df_015 = ba.add_columns(df_015, first_trial_indices_rest, last_trial_indices_rest, task)\n",
    "df_016 = ba.add_columns(df_016, first_trial_indices_rest, last_trial_indices_rest, task)\n",
    "df_018 = ba.add_columns(df_018, first_trial_indices_rest, last_trial_indices_rest, task)\n",
    "df_020 = ba.add_columns(df_020, first_trial_indices_rest, last_trial_indices_rest, task)\n",
    "df_021 = ba.add_columns(df_021, first_trial_indices_rest, last_trial_indices_rest, task)\n",
    "df_022 = ba.add_columns(df_022, first_trial_indices_rest, last_trial_indices_rest, task)\n",
    "df_023 = ba.add_columns(df_023, first_trial_indices_rest, last_trial_indices_rest, task)\n",
    "df_024 = ba.add_columns(df_024, first_trial_indices_rest, last_trial_indices_rest, task)\n",
    "df_051 = ba.add_columns(df_051, first_trial_indices_rest, last_trial_indices_rest, task)\n",
    "df_053 = ba.add_columns(df_053, first_trial_indices_rest, last_trial_indices_rest, task)\n",
    "df_054 = ba.add_columns(df_054, first_trial_indices_rest, last_trial_indices_rest, task)\n",
    "df_055 = ba.add_columns(df_055, first_trial_indices_rest, last_trial_indices_rest, task)\n",
    "df_057 = ba.add_columns(df_057, first_trial_indices_rest, last_trial_indices_rest, task)\n",
    "df_061 = ba.add_columns(df_061, first_trial_indices_rest, last_trial_indices_rest, task)"
   ]
  },
  {
   "cell_type": "code",
   "execution_count": null,
   "metadata": {},
   "outputs": [],
   "source": [
    "df_011 = ba.cut_bad_trials(df_011, True)\n",
    "df_012 = ba.cut_bad_trials(df_012, True)\n",
    "df_013 = ba.cut_bad_trials(df_013, True)\n",
    "df_014 = ba.cut_bad_trials(df_014, True)\n",
    "df_015 = ba.cut_bad_trials(df_015, True)\n",
    "df_016 = ba.cut_bad_trials(df_016, True)\n",
    "df_018 = ba.cut_bad_trials(df_018, True)\n",
    "df_020 = ba.cut_bad_trials(df_020, True)\n",
    "df_021 = ba.cut_bad_trials(df_021, True)\n",
    "df_022 = ba.cut_bad_trials(df_022, True)\n",
    "df_023 = ba.cut_bad_trials(df_023, True)\n",
    "df_024 = ba.cut_bad_trials(df_024, True)\n",
    "df_051 = ba.cut_bad_trials(df_051, True)\n",
    "df_053 = ba.cut_bad_trials(df_053, True)\n",
    "df_054 = ba.cut_bad_trials(df_054, True)\n",
    "df_055 = ba.cut_bad_trials(df_055, True)\n",
    "df_057 = ba.cut_bad_trials(df_057, True)\n",
    "df_061 = ba.cut_bad_trials(df_061, True)"
   ]
  },
  {
   "cell_type": "code",
   "execution_count": null,
   "metadata": {},
   "outputs": [],
   "source": [
    "all_subs = pd.concat((df_011, df_012, df_013, df_014, df_015, df_016, df_018, df_020, df_021,\n",
    "                      df_022, df_023, df_024, df_051, df_053, df_054, df_055, df_057, df_061))"
   ]
  },
  {
   "cell_type": "code",
   "execution_count": null,
   "metadata": {},
   "outputs": [],
   "source": [
    "# Proportion of trials that were cut.\n",
    "1 - all_subs.shape[0] / 18144.0"
   ]
  },
  {
   "cell_type": "code",
   "execution_count": null,
   "metadata": {},
   "outputs": [],
   "source": [
    "df_011 = ba.get_sys_error(df_011)\n",
    "df_012 = ba.get_sys_error(df_012)\n",
    "df_013 = ba.get_sys_error(df_013)\n",
    "df_014 = ba.get_sys_error(df_014)\n",
    "df_015 = ba.get_sys_error(df_015)\n",
    "df_016 = ba.get_sys_error(df_016)\n",
    "df_018 = ba.get_sys_error(df_018)\n",
    "df_020 = ba.get_sys_error(df_020)\n",
    "df_021 = ba.get_sys_error(df_021)\n",
    "df_022 = ba.get_sys_error(df_022)\n",
    "df_023 = ba.get_sys_error(df_023)\n",
    "df_024 = ba.get_sys_error(df_024)\n",
    "df_051 = ba.get_sys_error(df_051)\n",
    "df_053 = ba.get_sys_error(df_053)\n",
    "df_054 = ba.get_sys_error(df_054)\n",
    "df_055 = ba.get_sys_error(df_055)\n",
    "df_057 = ba.get_sys_error(df_057)\n",
    "df_061 = ba.get_sys_error(df_061)"
   ]
  },
  {
   "cell_type": "markdown",
   "metadata": {},
   "source": [
    "## Compare models of serial dependence (third paragraph of *Data Analysis* in *Methods*)."
   ]
  },
  {
   "cell_type": "code",
   "execution_count": null,
   "metadata": {},
   "outputs": [],
   "source": [
    "ba.print_fit_goodness((df_011, df_012, df_013, df_014, df_015, df_016, df_018, df_020, df_021,\n",
    "                       df_022, df_023, df_024, df_051, df_053, df_054, df_055, df_057, df_061))"
   ]
  },
  {
   "cell_type": "markdown",
   "metadata": {},
   "source": [
    "## Second paragraph of *Experiment 2* section of *Results*."
   ]
  },
  {
   "cell_type": "code",
   "execution_count": null,
   "metadata": {},
   "outputs": [],
   "source": [
    "ba.save_for_permutation((df_011, df_012, df_013, df_014, df_015, df_016, df_018, df_020, df_021,\n",
    "                         df_022, df_023, df_024, df_051, df_053, df_054, df_055, df_057, df_061), \n",
    "                        (11, 12, 13, 14, 15, 16, 18, 20, 21, 22, 23, 24, 51, 53, 54, 55, 57, 61), project_dir,\n",
    "                        task_name=task)"
   ]
  },
  {
   "cell_type": "markdown",
   "metadata": {},
   "source": [
    "STOP POINT 1: Before continuing, generate permuted datasets (see README)."
   ]
  },
  {
   "cell_type": "code",
   "execution_count": null,
   "metadata": {
    "scrolled": false
   },
   "outputs": [],
   "source": [
    "ba.perform_permutation_test((df_011, df_012, df_013, df_014, df_015, df_016, df_018, df_020, df_021,\n",
    "                             df_022, df_023, df_024, df_051, df_053, df_054, df_055, df_057, df_061), \n",
    "                            (11, 12, 13, 14, 15, 16, 18, 20, 21, 22, 23, 24, 51, 53, 54, 55, 57, 61), project_dir,\n",
    "                            use_clifford=False, task_name=task, concat=True)"
   ]
  },
  {
   "cell_type": "markdown",
   "metadata": {},
   "source": [
    "STOP POINT 2: Before continuing, perform the bootstrap (see README)."
   ]
  },
  {
   "cell_type": "code",
   "execution_count": null,
   "metadata": {},
   "outputs": [],
   "source": [
    "ba.print_confidence_interval((df_011, df_012, df_013, df_014, df_015, df_016, df_018, df_020, df_021,\n",
    "                              df_022, df_023, df_024, df_051, df_053, df_054, df_055, df_057, df_061), \n",
    "                             (11, 12, 13, 14, 15, 16, 18, 20, 21, 22, 23, 24, 51, 53, 54, 55, 57, 61), project_dir,\n",
    "                            task_name=task)"
   ]
  },
  {
   "cell_type": "code",
   "execution_count": null,
   "metadata": {},
   "outputs": [],
   "source": [
    "ba.save_for_permutation((df_011, df_012, df_013, df_014, df_015, df_016, df_018, df_020, df_021,\n",
    "                         df_022, df_023, df_024, df_051, df_053, df_054, df_055, df_057, df_061), \n",
    "                        (11, 12, 13, 14, 15, 16, 18, 20, 21, 22, 23, 24, 51, 53, 54, 55, 57, 61), project_dir,\n",
    "                        future=True, task_name=task)"
   ]
  },
  {
   "cell_type": "markdown",
   "metadata": {},
   "source": [
    "STOP POINT 3: Before continuing, generate permuted datasets (see README)."
   ]
  },
  {
   "cell_type": "code",
   "execution_count": null,
   "metadata": {},
   "outputs": [],
   "source": [
    "ba.perform_permutation_test((df_011, df_012, df_013, df_014, df_015, df_016, df_018, df_020, df_021,\n",
    "                             df_022, df_023, df_024, df_051, df_053, df_054, df_055, df_057, df_061), \n",
    "                            (11, 12, 13, 14, 15, 16, 18, 20, 21, 22, 23, 24, 51, 53, 54, 55, 57, 61), project_dir,\n",
    "                            concat=True, use_clifford=False, future=True, two_tailed=True, task_name=task)"
   ]
  },
  {
   "cell_type": "markdown",
   "metadata": {},
   "source": [
    "STOP POINT 4: Before continuing, perform the bootstrap (see README)."
   ]
  },
  {
   "cell_type": "code",
   "execution_count": null,
   "metadata": {},
   "outputs": [],
   "source": [
    "ba.print_confidence_interval((df_011, df_012, df_013, df_014, df_015, df_016, df_018, df_020, df_021,\n",
    "                              df_022, df_023, df_024, df_051, df_053, df_054, df_055, df_057, df_061), \n",
    "                             (11, 12, 13, 14, 15, 16, 18, 20, 21, 22, 23, 24, 51, 53, 54, 55, 57, 61), project_dir,\n",
    "                            task_name=task, future=True)"
   ]
  },
  {
   "cell_type": "markdown",
   "metadata": {},
   "source": [
    "## Third paragraph of *Experiment 2* section of *Results*."
   ]
  },
  {
   "cell_type": "code",
   "execution_count": null,
   "metadata": {},
   "outputs": [],
   "source": [
    "ba.save_for_permutation((df_011, df_012, df_013, df_014, df_015, df_016, df_018, df_020, df_021,\n",
    "                         df_022, df_023, df_024, df_051, df_053, df_054, df_055, df_057, df_061), \n",
    "                        (11, 12, 13, 14, 15, 16, 18, 20, 21, 22, 23, 24, 51, 53, 54, 55, 57, 61), project_dir,\n",
    "                        only_iti=1, task_name=task)\n",
    "ba.save_for_permutation((df_011, df_012, df_013, df_014, df_015, df_016, df_018, df_020, df_021,\n",
    "                         df_022, df_023, df_024, df_051, df_053, df_054, df_055, df_057, df_061), \n",
    "                        (11, 12, 13, 14, 15, 16, 18, 20, 21, 22, 23, 24, 51, 53, 54, 55, 57, 61), project_dir,\n",
    "                        only_iti=3, task_name=task)\n",
    "ba.save_for_permutation((df_011, df_012, df_013, df_014, df_015, df_016, df_018, df_020, df_021,\n",
    "                         df_022, df_023, df_024, df_051, df_053, df_054, df_055, df_057, df_061), \n",
    "                        (11, 12, 13, 14, 15, 16, 18, 20, 21, 22, 23, 24, 51, 53, 54, 55, 57, 61), project_dir,\n",
    "                        only_iti=6, task_name=task)\n",
    "ba.save_for_permutation((df_011, df_012, df_013, df_014, df_015, df_016, df_018, df_020, df_021,\n",
    "                         df_022, df_023, df_024, df_051, df_053, df_054, df_055, df_057, df_061), \n",
    "                        (11, 12, 13, 14, 15, 16, 18, 20, 21, 22, 23, 24, 51, 53, 54, 55, 57, 61), project_dir,\n",
    "                        only_iti=10, task_name=task)"
   ]
  },
  {
   "cell_type": "markdown",
   "metadata": {},
   "source": [
    "STOP POINT 5: Before continuing, generate permuted datasets (see README)."
   ]
  },
  {
   "cell_type": "code",
   "execution_count": null,
   "metadata": {},
   "outputs": [],
   "source": [
    "ba.perform_permutation_test_conditions((df_011, df_012, df_013, df_014, df_015, df_016, df_018, df_020, df_021,\n",
    "                                        df_022, df_023, df_024, df_051, df_053, df_054, df_055, df_057, df_061), \n",
    "                                       (11, 12, 13, 14, 15, 16, 18, 20, 21, 22, 23, 24, 51, 53, 54, 55, 57, 61), \n",
    "                                       project_dir, use_clifford=False, task_name=task)"
   ]
  },
  {
   "cell_type": "markdown",
   "metadata": {},
   "source": [
    "STOP POINT 6: Before continuing, perform the bootstrap (see README)."
   ]
  },
  {
   "cell_type": "code",
   "execution_count": null,
   "metadata": {},
   "outputs": [],
   "source": [
    "ba.plot_bars((df_011, df_012, df_013, df_014, df_015, df_016, df_018, df_020, df_021,\n",
    "              df_022, df_023, df_024, df_051, df_053, df_054, df_055, df_057, df_061), \n",
    "             (11, 12, 13, 14, 15, 16, 18, 20, 21, 22, 23, 24, 51, 53, 54, 55, 57, 61), project_dir, use_clifford=False,\n",
    "             task_name=task)"
   ]
  },
  {
   "cell_type": "code",
   "execution_count": null,
   "metadata": {},
   "outputs": [],
   "source": [
    "all_subs = pd.concat((df_011, df_012, df_013, df_014, df_015, df_016, df_018, df_020, df_021,\n",
    "                      df_022, df_023, df_024, df_051, df_053, df_054, df_055, df_057, df_061))"
   ]
  },
  {
   "cell_type": "code",
   "execution_count": null,
   "metadata": {},
   "outputs": [],
   "source": [
    "ba.plot_running_avg_with_fit(all_subs.loc[all_subs.itis == 1], 'iti_1', bin_width=500, fixed_ylim=False)"
   ]
  },
  {
   "cell_type": "code",
   "execution_count": null,
   "metadata": {},
   "outputs": [],
   "source": [
    "ba.plot_running_avg_with_fit(all_subs.loc[all_subs.itis == 10], 'iti_10', bin_width=500, fixed_ylim=False)"
   ]
  },
  {
   "cell_type": "code",
   "execution_count": null,
   "metadata": {},
   "outputs": [],
   "source": []
  }
 ],
 "metadata": {
  "kernelspec": {
   "display_name": "Python 2",
   "language": "python",
   "name": "python2"
  },
  "language_info": {
   "codemirror_mode": {
    "name": "ipython",
    "version": 2
   },
   "file_extension": ".py",
   "mimetype": "text/x-python",
   "name": "python",
   "nbconvert_exporter": "python",
   "pygments_lexer": "ipython2",
   "version": "2.7.14"
  }
 },
 "nbformat": 4,
 "nbformat_minor": 2
}
